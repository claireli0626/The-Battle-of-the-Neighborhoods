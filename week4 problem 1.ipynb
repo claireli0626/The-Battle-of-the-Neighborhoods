{
 "cells": [
  {
   "cell_type": "markdown",
   "metadata": {},
   "source": [
    "## 1. A description of the problem and a discussion of the background"
   ]
  },
  {
   "cell_type": "markdown",
   "metadata": {},
   "source": [
    "#### 1.1 Background"
   ]
  },
  {
   "cell_type": "markdown",
   "metadata": {},
   "source": [
    "Choosing the right commercial location in local neighborhood can help businesses owners meet and exceed their sales and marketing goal. Location and Postcode analysis offer business the ability to combine all geographically relevant demographic, economic, and sociopolitical information with financial and other data that businesses generally possess. \n",
    "\n",
    "Johnson County is a county with highest population and large number of employers in Kansas State. Restaurant owner is interested in exploring the population and business patterns in Johnson County neighborhood to discover the best location to open a pizza restaurant. Setting up pizza shop near an area with a lot of vehicle traffic and stable household income families will take the business to the next level. "
   ]
  },
  {
   "cell_type": "markdown",
   "metadata": {},
   "source": [
    "#### 1.2 Problem"
   ]
  },
  {
   "cell_type": "markdown",
   "metadata": {},
   "source": [
    "Data contribute to making decision on pizza place location include venue category, venue address, distance to entrance, cross street, neighborhood postcode, neighborhood employee numbers, and neighborhood employee payrolls. \n",
    "\n",
    "The aim of this project is to predict whether the given location in Johnson County is the best choice to start a pizza business. "
   ]
  },
  {
   "cell_type": "code",
   "execution_count": null,
   "metadata": {},
   "outputs": [],
   "source": []
  }
 ],
 "metadata": {
  "kernelspec": {
   "display_name": "Python",
   "language": "python",
   "name": "conda-env-python-py"
  },
  "language_info": {
   "codemirror_mode": {
    "name": "ipython",
    "version": 3
   },
   "file_extension": ".py",
   "mimetype": "text/x-python",
   "name": "python",
   "nbconvert_exporter": "python",
   "pygments_lexer": "ipython3",
   "version": "3.6.10"
  }
 },
 "nbformat": 4,
 "nbformat_minor": 4
}
